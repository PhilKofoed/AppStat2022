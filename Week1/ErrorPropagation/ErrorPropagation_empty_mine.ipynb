{
 "cells": [
  {
   "cell_type": "markdown",
   "metadata": {},
   "source": [
    "# Error Propagation using Random Gaussian Numbers\n",
    "\n",
    "Example calculation of propagating uncertainties, both when adding and multiplying number, and also in the general case. The propagation can be done both analytically (using the error propagation formula) and also using simulation.\n",
    "\n",
    "The example is based on FIRST doing the error propagation **analytically**, and then verifying it by running a so-called Monte-Carlo (MC) program, which uses random numbers for propagating errors.\n",
    "\n",
    "\n",
    "## References:\n",
    "- Barlow: page 48-61\n",
    "- Bevington: page 36-48\n",
    "\n",
    "## Author(s), contact(s), and dates:\n",
    "- Author: Troels C. Petersen (NBI)\n",
    "- Email:  petersen@nbi.dk\n",
    "- Date:   8th of November 2022\n",
    "---\n",
    "Adaptation by: Philip Kofoed-Djursner"
   ]
  },
  {
   "cell_type": "markdown",
   "metadata": {},
   "source": [
    "***\n",
    "\n",
    "DO THE FOLLOWING ANALYTICAL EXERCISE FIRST!!!\n",
    "\n",
    "1. A class of students estimate by eye, that the length of the table in Auditorium A is $L = (3.5\\pm 0.4)m$, and that the width is $W = (0.8\\pm 0.2)m$.\n",
    "\n",
    "   Assuming that there is no correlation between these two measurements, calculate ANALYTICALLY what the Perimeter (P), area (A), and diagonal (D) length is including (propagated) uncertainties. Repeat the calculation, given that the correlation between length and width is $\\rho(L,W) = 0.5$ - not an unreasonable number, given that they are estimated by the same (uncertain) scale.\n",
    "   \n",
    "NOTE: This is a complete standard problem, that you will be asked to solve again and again in the course. For this reason, make sure that you understand how to do it, and become good at doing it reasonably fast."
   ]
  },
  {
   "cell_type": "code",
   "execution_count": 4,
   "metadata": {},
   "outputs": [],
   "source": [
    "import numpy as np                                     # Matlab like syntax for linear algebra and functions\n",
    "import matplotlib.pyplot as plt                        # Plots and figures like you know them from Matlab\n",
    "import seaborn as sns                                  # Make the plots nicer to look at\n",
    "from iminuit import Minuit                             # The actual fitting tool, better than scipy's\n",
    "import sys                                             # Modules to see files and folders in directories"
   ]
  },
  {
   "cell_type": "code",
   "execution_count": 5,
   "metadata": {},
   "outputs": [],
   "source": [
    "sys.path.append('../../External_Functions')\n",
    "from ExternalFunctions import Chi2Regression\n",
    "from ExternalFunctions import nice_string_output, add_text_to_ax, add_header_to_ax # useful functions to print fit results on figure"
   ]
  },
  {
   "cell_type": "code",
   "execution_count": 23,
   "metadata": {},
   "outputs": [
    {
     "name": "stdout",
     "output_type": "stream",
     "text": [
      "The perimeter of the table is 8.6 +/- 0.89 m when no correlation\n",
      "The area of the table is 2.8 +/- 0.77 m^2 when no correlation\n",
      "The diagonal of the table is 3.6 +/- 0.62 m when no correlation\n",
      "The perimeter of the table is 8.6 +/- 1.06 m with correlation\n",
      "The area of the table is 2.8 +/- 0.90 m^2 with correlation\n",
      "The diagonal of the table is 3.6 +/- 0.64 m with correlation\n"
     ]
    }
   ],
   "source": [
    "mu_l = 3.5\n",
    "sig_l = 0.4\n",
    "mu_w = 0.8\n",
    "sig_w = 0.2\n",
    "rho_lw = 0.5\n",
    "\n",
    "# perimeter, area and diagonal with no correlation\n",
    "p = 2 * mu_l + 2 * mu_w\n",
    "p_err = np.sqrt(2**2 * sig_l**2 + 2**2 * sig_w**2)\n",
    "print(f\"The perimeter of the table is {p:.1f} +/- {p_err:.2f} m when no correlation\")\n",
    "\n",
    "a = mu_l * mu_w\n",
    "a_err = np.sqrt((sig_l/mu_l)**2 + (sig_w/mu_w)**2)*a\n",
    "print(f\"The area of the table is {a:.1f} +/- {a_err:.2f} m^2 when no correlation\")\n",
    "\n",
    "d = np.sqrt(mu_l**2 + mu_w**2)\n",
    "d_err = np.sqrt((mu_l / d)**2 * sig_l + (mu_w / d)**2 * sig_w)\n",
    "print(f\"The diagonal of the table is {d:.1f} +/- {d_err:.2f} m when no correlation\")\n",
    "# Here the calculation of the errors only holds if the errors are small, which they might not be\n",
    "\n",
    "# With correlation\n",
    "p = 2 * mu_l + 2 * mu_w\n",
    "p_err = np.sqrt(2**2 * sig_l**2 + 2**2 * sig_w**2 + 2 * 2 * 2 * rho_lw * sig_w * sig_l)\n",
    "print(f\"The perimeter of the table is {p:.1f} +/- {p_err:.2f} m with correlation\")\n",
    "\n",
    "a = mu_l * mu_w\n",
    "a_err = np.sqrt((mu_w * sig_l)**2 + (mu_l * sig_w)**2 + 2 * mu_l * mu_w * rho_lw * sig_w * sig_l)\n",
    "print(f\"The area of the table is {a:.1f} +/- {a_err:.2f} m^2 with correlation\")\n",
    "\n",
    "d = np.sqrt(mu_l**2 + mu_w**2)\n",
    "d_err = np.sqrt((mu_l / d)**2 * sig_l + (mu_w / d)**2 * sig_w + 2 * (mu_l / d) * (mu_w / d) * rho_lw * sig_l * sig_w)\n",
    "print(f\"The diagonal of the table is {d:.1f} +/- {d_err:.2f} m with correlation\")\n",
    "\n"
   ]
  },
  {
   "cell_type": "markdown",
   "metadata": {},
   "source": [
    "## Error propagation - Simulation\n",
    "\n",
    "Now we want to try to see, if we can solve the above error propagation problem using simulation. The method is relatively straight forward: You simply take \"realistic\" values of the input parameters x (here Length (x1) and Width (x2)), calculate the resulting value y (here Perimeter, Area, and Diagonal), and do this many times. The resulting distribution of y should be centered around the value y(x1,x2), and the standard deviation should reflect the uncertainty in y from the uncertainties in the input variables.\n",
    "\n",
    "This is a much more clumsy way of calculating the uncertainty, but comes with the advantage, that if the resulting uncertainty is not Gaussian, then one can actually see this (i.e. it avoids the assumptions used in the usual error propagation formula)."
   ]
  },
  {
   "cell_type": "code",
   "execution_count": 24,
   "metadata": {},
   "outputs": [],
   "source": [
    "# First we set the parameters of the program:\n",
    "N_exp = 10000           # Number of \"experiments\" (i.e. drawing from random distributions)\n",
    "save_plots = False\n",
    "r = np.random\n",
    "r.seed(42)"
   ]
  },
  {
   "cell_type": "markdown",
   "metadata": {},
   "source": [
    "Define parameters for two random numbers (Gaussianly distributed):"
   ]
  },
  {
   "cell_type": "code",
   "execution_count": 25,
   "metadata": {},
   "outputs": [],
   "source": [
    "mu1   =  3.5\n",
    "sig1  =  0.4\n",
    "mu2   =  0.8\n",
    "sig2  =  0.2\n",
    "rho12 =  0.5           # Correlation parameter!"
   ]
  },
  {
   "cell_type": "code",
   "execution_count": 26,
   "metadata": {},
   "outputs": [],
   "source": [
    "if not (-1.0 <= rho12 <= 1.0): \n",
    "    raise ValueError(f\"Correlation factor not in interval [-1,1], as it is {rho12:6.2f}\")"
   ]
  },
  {
   "cell_type": "markdown",
   "metadata": {},
   "source": [
    "Now we calculate numbers that allows the transform from uncorrelated variables `u` and `v` to correlated random numbers `x1` and `x2` below (see Barlow page 42-44 for method).\n",
    "\n",
    "Essentially, the method is to \"rotate\" `u` and `v`, and the formulae simply controls the amount of rotation one needs to get the correlation wanted."
   ]
  },
  {
   "cell_type": "code",
   "execution_count": 35,
   "metadata": {},
   "outputs": [
    {
     "name": "stdout",
     "output_type": "stream",
     "text": [
      "0.29400130177378375 0.41486265861038857 0.16699992362489338\n",
      "3.4980446857882983\n",
      "0.8015221917732457\n",
      "8.599133755123088\n"
     ]
    },
    {
     "data": {
      "text/plain": [
       "(array([  0.,   1.,   0.,   2.,   2.,   2.,   2.,   2.,   3.,   7.,   7.,\n",
       "          8.,   9.,  10.,  16.,  21.,  19.,  24.,  24.,  16.,  32.,  38.,\n",
       "         40.,  55.,  59.,  62.,  78.,  70.,  71.,  83., 118., 123., 120.,\n",
       "        124., 144., 153., 159., 166., 180., 198., 213., 229., 199., 237.,\n",
       "        244., 249., 235., 261., 273., 265., 248., 265., 284., 230., 247.,\n",
       "        244., 247., 251., 249., 256., 217., 190., 197., 204., 167., 182.,\n",
       "        133., 139., 144., 124., 126., 118., 114.,  83.,  94.,  70.,  56.,\n",
       "         49.,  58.,  42.,  42.,  28.,  46.,  28.,  34.,  26.,  26.,  10.,\n",
       "         16.,  13.,   8.,   7.,   8.,   3.,   5.,   6.,   1.,   3.,   1.,\n",
       "          1.]),\n",
       " array([ 5.  ,  5.07,  5.14,  5.21,  5.28,  5.35,  5.42,  5.49,  5.56,\n",
       "         5.63,  5.7 ,  5.77,  5.84,  5.91,  5.98,  6.05,  6.12,  6.19,\n",
       "         6.26,  6.33,  6.4 ,  6.47,  6.54,  6.61,  6.68,  6.75,  6.82,\n",
       "         6.89,  6.96,  7.03,  7.1 ,  7.17,  7.24,  7.31,  7.38,  7.45,\n",
       "         7.52,  7.59,  7.66,  7.73,  7.8 ,  7.87,  7.94,  8.01,  8.08,\n",
       "         8.15,  8.22,  8.29,  8.36,  8.43,  8.5 ,  8.57,  8.64,  8.71,\n",
       "         8.78,  8.85,  8.92,  8.99,  9.06,  9.13,  9.2 ,  9.27,  9.34,\n",
       "         9.41,  9.48,  9.55,  9.62,  9.69,  9.76,  9.83,  9.9 ,  9.97,\n",
       "        10.04, 10.11, 10.18, 10.25, 10.32, 10.39, 10.46, 10.53, 10.6 ,\n",
       "        10.67, 10.74, 10.81, 10.88, 10.95, 11.02, 11.09, 11.16, 11.23,\n",
       "        11.3 , 11.37, 11.44, 11.51, 11.58, 11.65, 11.72, 11.79, 11.86,\n",
       "        11.93, 12.  ]),\n",
       " [<matplotlib.patches.Polygon at 0x1739ecf39d0>])"
      ]
     },
     "execution_count": 35,
     "metadata": {},
     "output_type": "execute_result"
    },
    {
     "data": {
      "image/png": "[encoded data removed]",
      "text/plain": [
       "<Figure size 432x288 with 1 Axes>"
      ]
     },
     "metadata": {
      "needs_background": "light"
     },
     "output_type": "display_data"
    }
   ],
   "source": [
    "# Define the parameters needed for the transformation:\n",
    "theta = 0.5 * np.arctan( 2.0 * rho12 * sig1 * sig2 / ( np.square(sig1) - np.square(sig2) ) )\n",
    "sigu = np.sqrt( np.abs( (((sig1*np.cos(theta))**2) - (sig2*np.sin(theta))**2 ) / ( (np.cos(theta))**2 - np.sin(theta)**2) ) )\n",
    "sigv = np.sqrt( np.abs( (((sig2*np.cos(theta))**2) - (sig1*np.sin(theta))**2 ) / ( (np.cos(theta))**2 - np.sin(theta)**2) ) )\n",
    "print(theta , sigu, sigv)\n",
    "# Produce random numbers with the (possible) correlation:\n",
    "u = r.normal(0.0, sigu, N_exp)\n",
    "v = r.normal(0.0, sigv, N_exp)\n",
    "x1_all = mu1 + np.cos(theta)*u - np.sin(theta)*v\n",
    "x2_all = mu2 + np.sin(theta)*u + np.cos(theta)*v\n",
    "x12_all = np.array([x1_all, x2_all])\n",
    "\n",
    "\n",
    "print(np.mean(x1_all))\n",
    "print(np.mean(x2_all))\n",
    "y_all = 2 * x1_all + 2 * x2_all\n",
    "print(np.mean(y_all))\n",
    "\n",
    "plt.hist(y_all, bins = 100, range = (5, 12), histtype=\"step\")"
   ]
  },
  {
   "cell_type": "markdown",
   "metadata": {},
   "source": [
    "### Problem:\n",
    "\n",
    "Using values of x1 and x2, see the impact their variation has on Perimeter, Area, and Diameter, both without and with correlations. Determine the standard deviation of y, and see if it corresponds to your value from the initial calculation. Also check, if the distribution of y is Gaussian at all!"
   ]
  },
  {
   "cell_type": "markdown",
   "metadata": {},
   "source": [
    "---\n",
    "\n",
    "# Questions:\n",
    "\n",
    "0. First solve the problem of obtaining the Perimeter, Area & Diagonal with uncertainty ANALYTICALLY.\n",
    "\n",
    "1. Now look at the program, and assure yourself that you understand what is going on. Put in the correct expression for y in terms of x1=L and x2=W in order to calculate the circumference, area, and diagonal length, and run the program. Does the output correspond well with the results you expected from your analytical calculations to begin with?\n",
    "\n",
    "2. Imagine that you wanted to know the central value and uncertainty of y1 and y2, given the\n",
    "   same above PDFs for `x1`=$L$ and `x2`=$W$:\n",
    "   \n",
    "     `y1 = log(square(x1*tan(x2))+sqrt((x1-x2)/(cos(x2)+1.0+x1)))`\n",
    "     \n",
    "     `y2 = 1.1+sin(20*x1)`\n",
    "\n",
    "   Get the central value of y, and see if you can quickly differentiate this with\n",
    "   respect to `x1` and `x2`, and thus predict what uncertainty to expect for y using\n",
    "   the error propagation formula. It is (for once) OK to give up on the first expression :-)\n",
    "   Next, try to estimate the central value and uncertainty using random numbers\n",
    "   like above - do you trust this result more? And are the distributions Gaussian?\n",
    "\n",
    "\n",
    "### Advanced questions:\n",
    "\n",
    "3. Try to generate `x1` and `x2` with non-linear correlation, which yields zero linear correlation,\n",
    "   and see that despite not having any linear correlation, the result on perimeter, area, and diagonal\n",
    "   length is still affected.\n"
   ]
  },
  {
   "cell_type": "markdown",
   "metadata": {},
   "source": [
    "# Learning points:\n",
    "\n",
    "Through this exercise, you should understand, that uncertainties (errors in slang) propagation can be in **two ways**:\n",
    "1. **Analytically**, propergating the uncertainties by differentiating the formula/relation in question.\n",
    "2. **Numerically** (i.e. simulation), by using random numbers reflecting the uncertainties on the input parameters, and calculating the final resulting number many times from these, noting the variation.\n",
    "\n",
    "The analytical method is simple and transparent, but not always robust, as it requires that the error propagation formula holds. The numerical method is simple and robust, but not transparent. Using both methods is a great way of cross checking.\n",
    "\n",
    "Finally, you should understand, that error propagation plays an essential role in science, and that it is also used in planning of experiments (to minimise the error on the final quantity of interest)."
   ]
  }
 ],
 "metadata": {
  "executable": "/usr/bin/env python",
  "kernelspec": {
   "display_name": "base",
   "language": "python",
   "name": "python3"
  },
  "language_info": {
   "codemirror_mode": {
    "name": "ipython",
    "version": 3
   },
   "file_extension": ".py",
   "mimetype": "text/x-python",
   "name": "python",
   "nbconvert_exporter": "python",
   "pygments_lexer": "ipython3",
   "version": "3.9.7"
  },
  "vscode": {
   "interpreter": {
    "hash": "38efaa045fcc2680aaeae51f7ac851acc4f32df019d3afeeab3c12114d76b9ae"
   }
  }
 },
 "nbformat": 4,
 "nbformat_minor": 4
}
