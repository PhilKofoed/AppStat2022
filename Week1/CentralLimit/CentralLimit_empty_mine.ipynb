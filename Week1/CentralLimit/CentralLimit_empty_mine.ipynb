{
 "cells": [
  {
   "cell_type": "markdown",
   "metadata": {},
   "source": [
    "# Central Limit Theorem (CLT)\n",
    "\n",
    "The aim of this notebook is to illustrate the Central Limit Theorem (CLT) through concrete examples.\n",
    "\n",
    "When you add random numbers from different distributions, but with similar variance (or standard deviation), together and plot the distribution of these sums, you end up with a Gaussian distribution, as dictated by the CLT. \n",
    "The example also illustrates how widths (and therefore uncertainties) are added in quadrature, as one has to divide the sum by the square root of the number of random numbers that went into the sum in order to get a Gaussian of unit width (when using random numbers of unit width, i.e. RMSE $= \\sigma = 1$).\n",
    "\n",
    "\n",
    "## References:\n",
    "- **R. Barlow**: page 49 (and page 45 for Uniform distribution)\n",
    "- **G. Cowan**: page 33\n",
    "- __[Wikipedia: \"Central limit theorem\"](http://en.wikipedia.org/wiki/Central_limit_theorem)__\n",
    "\n",
    "## Author(s), contact(s), and dates:\n",
    "- Author: Troels C. Petersen (NBI)\n",
    "- Email:  petersen@nbi.dk\n",
    "- Date:   8th of November 2022\n",
    "\n",
    "---\n",
    "- Adaptation by Philip Kofoed-Djursner"
   ]
  },
  {
   "cell_type": "code",
   "execution_count": 1,
   "metadata": {},
   "outputs": [],
   "source": [
    "import numpy as np                                     # Matlab like syntax for linear algebra and functions\n",
    "import matplotlib.pyplot as plt                        # Plots and figures like you know them from Matlab\n",
    "import seaborn as sns                                  # Make the plots nicer to look at\n",
    "from iminuit import Minuit                             # The actual fitting tool, better than scipy's\n",
    "import sys                                             # Modules to see files and folders in directories"
   ]
  },
  {
   "cell_type": "markdown",
   "metadata": {},
   "source": [
    "Here we set the random seed for the random number generator (RNG). This ensures reproducability (the same results every time the notebook is restarted). "
   ]
  },
  {
   "cell_type": "code",
   "execution_count": 2,
   "metadata": {},
   "outputs": [],
   "source": [
    "r = np.random                         # Random generator\n",
    "r.seed(42)                            # Set a random seed (but a fixed one - more on that later.)"
   ]
  },
  {
   "cell_type": "markdown",
   "metadata": {},
   "source": [
    "And here we set the parameters for the experiement. We are going to play around with these more later on.\n",
    "For now we choose to take __10 uniform numbers__ and consider their sum __1000 times__. "
   ]
  },
  {
   "cell_type": "code",
   "execution_count": 142,
   "metadata": {},
   "outputs": [],
   "source": [
    "N_experiments = 10000                  # Number of sums produced\n",
    "N_uniform     = 0                   # Number of uniform numbers used in sum\n",
    "N_exponential = 0                     # Number of exponential numbers used in sum\n",
    "N_cauchy      = 10000                     # Number of cauchy numbers used in sum"
   ]
  },
  {
   "cell_type": "markdown",
   "metadata": {},
   "source": [
    "And finally we set up some global constants and the bool flags about the program:"
   ]
  },
  {
   "cell_type": "code",
   "execution_count": 4,
   "metadata": {
    "lines_to_next_cell": 2
   },
   "outputs": [],
   "source": [
    "verbose = True                        # Print some numbers or not?\n",
    "N_verbose = 10                        # If so, how many?\n",
    "save_plots = False                    # Save the plots produced to file(s)?"
   ]
  },
  {
   "cell_type": "markdown",
   "metadata": {
    "lines_to_next_cell": 2
   },
   "source": [
    "## Initial functions\n",
    "We load the external functions from the `AppStat2020/External_Functions` directory. The first line adds the relevant path to the places it will go look for functions, and the second line imports the function wanted. If you get an error here, check that you have copied \"External Functions\" to your directory, and that you refer to the correct path."
   ]
  },
  {
   "cell_type": "code",
   "execution_count": 135,
   "metadata": {},
   "outputs": [],
   "source": [
    "sys.path.append('../../External_Functions')\n",
    "from ExternalFunctions import nice_string_output, add_text_to_ax   # Useful functions to print fit results on figure"
   ]
  },
  {
   "cell_type": "markdown",
   "metadata": {},
   "source": [
    "## Loop over process:\n",
    "\n",
    "Having loaded everything that we need, we can start the actual program. We start out by initializing a counter to count how many of the produced sums that fall outside some range ($\\pm 3\\sigma$) and some zero-filled numpy arrays:"
   ]
  },
  {
   "cell_type": "code",
   "execution_count": 143,
   "metadata": {},
   "outputs": [],
   "source": [
    "N3_sigma = 0        # Counter for the number of produced sums, that fall outside +-3 sigma\n",
    "\n",
    "x_uniform = np.zeros((N_uniform, N_experiments))\n",
    "x_exponential = np.zeros((N_exponential, N_experiments))\n",
    "x_cauchy = np.zeros((N_cauchy, N_experiments))\n",
    "x_sum = np.zeros((N_experiments))"
   ]
  },
  {
   "cell_type": "markdown",
   "metadata": {},
   "source": [
    "### Problem:\n",
    "\n",
    "Fill the above numpy arrays with numbers according to the mentioned distributions, ensuring that the uniform and exponential have mean=0 and SD=1. Let the sum be the sum of all these numbers (possibly a mix), and consider the distribution of the sums. Do they look Gaussian?\n",
    "In order to compare the distribution of sums with a UNIT Gaussian, you might want to divide the sum values by sqrt(N), where N is the number of input values. As a part of checking, count how many values are outside 3 sigma."
   ]
  },
  {
   "cell_type": "code",
   "execution_count": 144,
   "metadata": {},
   "outputs": [],
   "source": [
    "cau_trunc = 0.1\n",
    "\n",
    "for iexp in range(N_experiments):\n",
    "    \n",
    "    x_uniform[:, iexp] = (np.random.uniform(size = N_uniform) - 0.5) * np.sqrt(12) \n",
    "    total_sum = np.sum(x_uniform[:, iexp])\n",
    "    \n",
    "    x_exponential[:, iexp] = (np.random.exponential(size = N_exponential) - 1)\n",
    "    total_sum += np.sum(x_exponential[:, iexp])\n",
    "    \n",
    "    x_cauchy[:, iexp] = np.random.standard_cauchy(size = N_cauchy)\n",
    "    trunc_bool = np.logical_and(\n",
    "        (x_cauchy[:, iexp] > np.percentile(x_cauchy[:, iexp], cau_trunc * 100)),\n",
    "        (x_cauchy[:, iexp] < np.percentile(x_cauchy[:, iexp], (1 - cau_trunc) * 100))\n",
    ")\n",
    "    total_sum += np.sum(x_cauchy[trunc_bool, iexp])\n",
    "    \n",
    "    N_total = N_uniform + N_exponential + N_cauchy * (1 - 2*cau_trunc)\n",
    "    x_sum[iexp] = total_sum / np.sqrt(N_total)\n",
    "    \n",
    "    "
   ]
  },
  {
   "cell_type": "markdown",
   "metadata": {},
   "source": [
    "To find the mean and width of distributions, one needs to convert the sum over discrete observation with the integral over \"infinite many\"\n",
    "$$\n",
    "\\mu = \\frac{1}{N} \\sum_{i} x_{i} \\to \\int_{b}^{a} P(x) \\cdot x \\: dx\n",
    "$$\n",
    "Where a and b is the limits of integration\n",
    "\n",
    "Similarly for the varience \n",
    "$$\n",
    "V = \\frac{1}{N} \\sum_{i} (x_{i}-\\mu)^{2} \\to \\int_{b}^{a} P(x) \\cdot (x - \\mu)^{2} \\: dx\n",
    "$$\n",
    "\n",
    "Use on the two above distribution\n",
    "#### Uniform\n",
    "$$\n",
    "\\mu = \\int_{b}^{a} \\frac{1}{abs(a - b)} \\cdot x \\: dx = \\frac{b^{2}-a^{2}}{2 \\cdot abs(a - b)}\n",
    "$$\n",
    "if a = b it is undefined and if a = -b it is 0\n",
    "\n",
    "variance with $\\mu = 0$ and a = -b\n",
    "$$\n",
    "V = \\int_{b}^{a} \\frac{1}{abs(a - b)} \\cdot (x - \\mu)^{2} \\: dx = \\int_{-a}^{a} \\frac{1}{2a} \\cdot x^{2} \\: dx = \\frac{2a^3}{3 \\cdot 2a} \n",
    "$$\n",
    "Look for std = 1\n",
    "$$\n",
    "\\sqrt{\\frac{2a^3}{3 \\cdot 2a}} = 1 \\Rightarrow a^{2} = 3 \\Rightarrow a = \\sqrt{3}\n",
    "$$\n",
    "#### Exponentail\n",
    "Same idea for an exponential function. \n",
    "\n",
    "The mean\n",
    "$$\n",
    "\\mu = \\int_{0}^{\\infty}(x-1) \\cdot e^{-x} \\: dx = 0\n",
    "$$\n",
    "\n",
    "The variance\n",
    "$$\n",
    "V = \\int_{0}^{\\infty}(x-1)^{2} \\cdot e^{-x} \\: dx = 1\n",
    "$$\n",
    "\n",
    "In practice this is achieved by subtacting 1 from the random number generated"
   ]
  },
  {
   "cell_type": "markdown",
   "metadata": {},
   "source": [
    "## Draw the input distributions:\n",
    "\n",
    "It is always important to visualize out data to see if our code produced the expected results, find outliers and just generally get a better understand of it.\n",
    "\n",
    "We first define the number of bins and the ranges of the different distributions. Note that it is important to think about this - too many/few bins or poor choice of range may ruin the plot, and one should try to get a \"regular\" bin widths:"
   ]
  },
  {
   "cell_type": "code",
   "execution_count": 8,
   "metadata": {},
   "outputs": [],
   "source": [
    "N_bins = 80\n",
    "ranges = [(-2, 2), (-2, 10), (-5, 5)]"
   ]
  },
  {
   "cell_type": "code",
   "execution_count": 145,
   "metadata": {},
   "outputs": [],
   "source": [
    "x_uniformflat = x_uniform.flatten()\n",
    "x_exponentialflat = x_exponential.flatten()\n",
    "x_cauchyflat = x_cauchy[\n",
    "        np.logical_and(\n",
    "        (x_cauchy > np.percentile(x_cauchy, cau_trunc * 100)),\n",
    "        (x_cauchy < np.percentile(x_cauchy, (1 - cau_trunc) * 100))\n",
    ")\n",
    "].flatten()\n",
    "\n",
    "x_flat = [x_uniformflat, x_exponentialflat, x_cauchyflat]\n",
    "titles = [\"Uniform\", \"Exponentail\", \"Cauchy\"]"
   ]
  },
  {
   "cell_type": "code",
   "execution_count": 146,
   "metadata": {},
   "outputs": [
    {
     "data": {
      "image/png": "[encoded data removed]",
      "text/plain": [
       "<Figure size 864x504 with 3 Axes>"
      ]
     },
     "metadata": {},
     "output_type": "display_data"
    }
   ],
   "source": [
    "fig, axes = plt.subplots(1, 3, figsize = (12,7), facecolor = \"white\")\n",
    "\n",
    "def plotsubplot(data, bins, xrange, ax, title):\n",
    "    bins = (max(xrange)-min(xrange))*10\n",
    "    if len(data) > 0:\n",
    "        ax.hist(data, bins = bins, range = xrange, histtype='step', color = \"b\", linewidth = 1.5)\n",
    "        ymax = ax.get_ylim()[1] * 1.25\n",
    "        ax.set(title = title, xlim = xrange, ylim = (0, ymax))\n",
    "        header = {\n",
    "            \"Entries\": len(data),\n",
    "            \"Mean\": np.mean(data),\n",
    "            \"Truncated_mean\": np.mean(data[(data > np.percentile(data, 10)) & (data < np.percentile(data, 90))]),\n",
    "            \"Std\": np.std(data, ddof = 1),\n",
    "            \"Truncated_std\": np.std(data[(data > np.percentile(data, 10)) & (data < np.percentile(data, 90))], ddof = 1)\n",
    "}\n",
    "        text = nice_string_output(header, extra_spacing=1)\n",
    "        add_text_to_ax(0.10, 0.97, text, ax)\n",
    "        # Would be nice to write a function which automaticly placed the text in the center of the subplot\n",
    "        \n",
    "for dataset, xrange, ax, title in zip(x_flat, ranges, axes, titles):\n",
    "    plotsubplot(dataset, N_bins, xrange, ax, title)\n",
    "\n",
    "fig.supxlabel(\"x values\")\n",
    "fig.supylabel(\"Frequency\")\n",
    "    \n",
    "fig.tight_layout()\n"
   ]
  },
  {
   "cell_type": "code",
   "execution_count": 147,
   "metadata": {},
   "outputs": [
    {
     "data": {
      "image/png": "[encoded data removed]",
      "text/plain": [
       "<Figure size 864x504 with 1 Axes>"
      ]
     },
     "metadata": {},
     "output_type": "display_data"
    }
   ],
   "source": [
    "fig, ax = plt.subplots(1, 1, figsize = (12,7), facecolor = \"white\")\n",
    "\n",
    "histrange = (-5,5)\n",
    "bin_per_sigma = 10\n",
    "N_bins = (max(histrange) - min(histrange))*bin_per_sigma\n",
    "\n",
    "ax.hist(x_sum, bins = N_bins, range = histrange, histtype= \"step\", color = \"b\", linewidth = 1.5)\n",
    "\n",
    "headerdict = {\n",
    "    \"Entries\": len(x_sum),\n",
    "    \"Mean\": np.mean(x_sum),\n",
    "    \"Std\": np.std(x_sum, ddof = 1),\n",
    "    \"Truncated_std\": np.std(x_sum[(x_sum > np.percentile(x_sum, 10)) & (x_sum < np.percentile(x_sum, 90))], ddof = 1)\n",
    "}\n",
    "header = nice_string_output(headerdict, extra_spacing=1)\n",
    "add_text_to_ax(0.03, 0.97, header, ax)\n",
    "\n",
    "xline = np.linspace(*histrange, 10000)\n",
    "\n",
    "def gausspdf(x):\n",
    "    return (1/np.sqrt(2*np.pi))*np.exp(-x**2/2)\n",
    "\n",
    "ygauss = [gausspdf(x)*N_experiments/bin_per_sigma for x in xline]\n",
    "\n",
    "ax.plot(xline, ygauss, color = \"r\", linewidth = 1.5)\n",
    "plt.show()"
   ]
  },
  {
   "cell_type": "code",
   "execution_count": 148,
   "metadata": {},
   "outputs": [
    {
     "name": "stdout",
     "output_type": "stream",
     "text": [
      "Number of datapoints beyond 3sigma \t 1279 / 10000 = 12.7900%\n",
      "Number of datapoints beyond 3.5sigma \t 731 / 10000 = 7.3100%\n",
      "Number of datapoints beyond 4sigma \t 416 / 10000 = 4.1600%\n"
     ]
    }
   ],
   "source": [
    "N_beyond3 = int(np.sum(np.logical_or((x_sum < -3),(x_sum > 3))))\n",
    "print(f\"Number of datapoints beyond 3sigma \\t {N_beyond3:d} / {N_experiments:d} = {N_beyond3/N_experiments*100:6.4f}%\")\n",
    "\n",
    "N_beyond3_5 = int(np.sum(np.logical_or((x_sum < -3.5),(x_sum > 3.5))))\n",
    "print(f\"Number of datapoints beyond 3.5sigma \\t {N_beyond3_5:d} / {N_experiments:d} = {N_beyond3_5/N_experiments*100:6.4f}%\")\n",
    "\n",
    "N_beyond4 = int(np.sum(np.logical_or((x_sum < -4),(x_sum > 4))))\n",
    "print(f\"Number of datapoints beyond 4sigma \\t {N_beyond4:d} / {N_experiments:d} = {N_beyond4/N_experiments*100:6.4f}%\")"
   ]
  },
  {
   "cell_type": "markdown",
   "metadata": {},
   "source": []
  },
  {
   "cell_type": "markdown",
   "metadata": {},
   "source": [
    "***\n",
    "***\n",
    "\n",
    "First make sure that you understand what the Central Limit Theorem (CLT) states! Then, acquaint yourself with the program. Make sure that you read through it, as many\n",
    "of these features will be used onwards. Do you understand why the uniform distribution needs to go from $\\pm \\sqrt 3$ in order to give a distribution with a width of $1$ (i.e. unit) and why you subtract $1$ from the exponential distribution (and how this works at all)?\n",
    "\n",
    "# Questions:\n",
    "\n",
    "1. What is the mean and RMS of the input distributions?\n",
    "\n",
    "2. Why would one want to put a factor $\\frac{1}{\\sqrt N}$ when summing up the various contributions to sum?\n",
    "    Hint: Assume that I always wanted to compare the distribution of sums with a UNIT Gaussian.\n",
    "\n",
    "3. Using a sum of 10 uniform random numbers with mean 0 and width 1, what is the expected \n",
    "    width of the resulting distribution according to CLT? What is the probability of\n",
    "    obtaining a number beyond 3 sigma, i.e. how many numbers did you get beyond 3 sigma?\n",
    "    What would you expect from a true Gaussian distribution?\n",
    "    And what about the same question for 3.5 sigma? And 4.0 sigma?\n",
    "    Put additional counters into the code, to test any effects in the tails (which have little statistics as it is).\n",
    "    Increase the number of experiments run to (much) more than 1000...\n",
    "\n",
    "4. Now try to add 10 exponential (i.e. set `N_exponential=10` and rerun the program). Does that give something Gaussian? What about 1000?\n",
    "    Then try to add 10 cauchy numbers (i.e. set `N_cauchy=10` and rerun the program). Does that give something Gaussian? What about 1000?\n",
    "    If not Gaussian, why do the Cauchy distribution \"ruin\" the Gaussian distribution?\n",
    "    And is this in conflict with the Central Limit Theorem?\n",
    "\n",
    "\n",
    "### Advanced questions:\n",
    "\n",
    "5. If one used a trunkated mean throwing away the top and bottom e.g. 10%,\n",
    "    will the truncated mean of 1000 Cauchy numbers then converge to a Gaussian (possibly not with unit width)?\n",
    "\n",
    "6. What is the lowest number of uniform random numbers needs to be added, before the probability\n",
    "    for the sum to follow a Gaussian distribution is greater than 1% (on average)\n",
    "    when considering 1000 sums (i.e. `N_experiments=1000`)? Here, a $\\chi^2$ fit is needed."
   ]
  },
  {
   "cell_type": "markdown",
   "metadata": {},
   "source": [
    "# Learning points:\n",
    "\n",
    "The exercises should make you:\n",
    "1. Understand why the Gaussian distribution is central in statistics (since all combinations of distributions converge towards it).\n",
    "2. Give you a feel for how \"fast\" this convergence is (i.e. relatively fast for \"nice\" distributions).\n",
    "3. Give you confidence in why we consider uncertainties Gaussian, unless known to be otherwise.\n",
    "\n",
    "Including the Cauchy distribution was simply to make you think about how the Central Limit Theorem is stated!"
   ]
  }
 ],
 "metadata": {
  "executable": "/usr/bin/env python",
  "kernelspec": {
   "display_name": "base",
   "language": "python",
   "name": "python3"
  },
  "language_info": {
   "codemirror_mode": {
    "name": "ipython",
    "version": 3
   },
   "file_extension": ".py",
   "mimetype": "text/x-python",
   "name": "python",
   "nbconvert_exporter": "python",
   "pygments_lexer": "ipython3",
   "version": "3.9.7"
  },
  "main_language": "python",
  "vscode": {
   "interpreter": {
    "hash": "38efaa045fcc2680aaeae51f7ac851acc4f32df019d3afeeab3c12114d76b9ae"
   }
  }
 },
 "nbformat": 4,
 "nbformat_minor": 2
}
